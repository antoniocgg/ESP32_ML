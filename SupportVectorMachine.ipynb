{
 "cells": [
  {
   "cell_type": "markdown",
   "metadata": {},
   "source": [
    "# SVM\n",
    "Usei o Kernel do Kaggle"
   ]
  },
  {
   "cell_type": "code",
   "execution_count": null,
   "metadata": {},
   "outputs": [],
   "source": [
    "# This Python 3 environment comes with many helpful analytics libraries installed\n",
    "# It is defined by the kaggle/python docker image: https://github.com/kaggle/docker-python\n",
    "# For example, here's several helpful packages to load in \n",
    "\n",
    "import numpy as np # linear algebra\n",
    "import pandas as pd # data processing, CSV file I/O (e.g. pd.read_csv)\n",
    "\n",
    "# Input data files are available in the \"../input/\" directory.\n",
    "# For example, running this (by clicking run or pressing Shift+Enter) will list all files under the input directory\n",
    "\n",
    "import os\n",
    "for dirname, _, filenames in os.walk('/kaggle/input'):\n",
    "    for filename in filenames:\n",
    "        print(os.path.join(dirname, filename))\n"
   ]
  },
  {
   "cell_type": "markdown",
   "metadata": {},
   "source": [
    "### O dataset Mines vs Rocks já está no Kaggle, mas pode ser baixado daqui:  \n",
    "https://archive.ics.uci.edu/ml/datasets/Connectionist+Bench+%28Sonar%2C+Mines+vs.+Rocks%29\n"
   ]
  },
  {
   "cell_type": "code",
   "execution_count": null,
   "metadata": {},
   "outputs": [],
   "source": [
    "input_data = pd.read_csv('/kaggle/input/mines-vs-rocks/sonar.all-data.csv', header=None)\n",
    "input_data.head() # uma olhada no dataset"
   ]
  },
  {
   "cell_type": "markdown",
   "metadata": {},
   "source": [
    "Conta quantas minas e quantas rochas tem no dataset  #minas 0    #rochas 1"
   ]
  },
  {
   "cell_type": "code",
   "execution_count": null,
   "metadata": {},
   "outputs": [],
   "source": [
    "from sklearn.model_selection import train_test_split\n",
    "from sklearn.preprocessing import LabelEncoder, OneHotEncoder  #codifica as letras M e R em 0 e 1\n",
    "y = input_data[60].copy()\n",
    "y = LabelEncoder().fit_transform(y)\n",
    "\n",
    "X_df = input_data.copy()\n",
    "X_df.drop([60], inplace=True, axis=1)\n",
    "\n",
    "X_train, X_test, y_train, y_test = train_test_split(X_df.values, y, test_size=0.2, shuffle=True, random_state=42)\n",
    "\n",
    "print('Training data and target sizes: \\n{}, {}'.format(X_train.shape,y_train.shape))\n",
    "print('Test data and target sizes: \\n{}, {}'.format(X_test.shape,y_test.shape))"
   ]
  },
  {
   "cell_type": "markdown",
   "metadata": {},
   "source": [
    "# Criação do Modelo\n",
    "\n",
    "Numa aplicação real, não pode haver falso negativo, pois seria desastroso identificar uma mina como rocha. Falsos positivos são aceitáveis. Assim, coloquei peso maior (2.975) para a classe 0de forma que não houvesse falsos negativos. Valor foi obtido com tentativa e erro"
   ]
  },
  {
   "cell_type": "code",
   "execution_count": null,
   "metadata": {},
   "outputs": [],
   "source": [
    " from sklearn import svm\n",
    "from sklearn import metrics\n",
    "#para evitar falso negativo, dei mais peso para a classe 0  2X\n",
    "svm_classifier = svm.SVC(C=0.5, kernel='linear', shrinking=False, tol=0.001,class_weight={0:2})  # as is in https://scikit-learn.org/stable/auto_examples/classification/plot_digits_classification.html\n",
    "\n",
    "\n",
    "#fit to the trainin data\n",
    "svm_classifier.fit(X_train,y_train)\n",
    "y_pred = svm_classifier.predict(X_test)\n",
    "\n",
    "print(\"Accuracy of model = %2f%%\" % (accuracy_score(y_test, y_pred )*100))\n",
    "print(\"Confusion matrix:\\n%s\" % metrics.confusion_matrix(y_test, y_pred))"
   ]
  },
  {
   "cell_type": "raw",
   "metadata": {},
   "source": [
    "Accuracy of model = 85.714286%\n",
    "Confusion matrix:\n",
    "[[26  0]\n",
    " [ 6 10]]"
   ]
  },
  {
   "cell_type": "markdown",
   "metadata": {},
   "source": [
    "## Visualização dos coeficientes\n",
    "São esses coeficientes que serão transferidos para o código C do Arduino."
   ]
  },
  {
   "cell_type": "code",
   "execution_count": null,
   "metadata": {},
   "outputs": [],
   "source": [
    "rint(svm_classifier.intercept_,(svm_classifier.coef_).shape)\n",
    "print(svm_classifier.intercept_,svm_classifier.coef_)"
   ]
  },
  {
   "cell_type": "raw",
   "metadata": {},
   "source": [
    "[1.8356881] (1, 60)\n",
    "[1.8356881] [[-0.23157297 -0.14241686 -0.0061185  -0.47533799 -0.48531811 -0.13785277\n",
    "  -0.07169693 -0.00828704 -0.52393992 -0.70626555 -1.5150412  -1.67551412\n",
    "  -0.55659443  0.41614232  0.69980168  0.76280057  0.46014887  0.0802019\n",
    "  -0.5846871  -0.48913528 -0.64165148 -0.38748648 -0.20209911 -0.59989774\n",
    "  -0.06555775  0.45456128  0.11207134  0.01467955 -0.14311086 -0.45352487\n",
    "   0.65977938 -0.20991984 -0.02719644  0.08860875  0.48830488  1.16100755\n",
    "   0.66248827 -0.56334289 -0.72005868  0.31553303 -0.16595794 -0.37225706\n",
    "  -1.01974891 -1.30142679 -1.26032834 -0.81667956 -0.6292021  -0.41095153\n",
    "  -0.37783402 -0.0139812  -0.08544967 -0.06182805 -0.05304528 -0.07780753\n",
    "  -0.01269865 -0.02383971 -0.00900693 -0.07229407 -0.07851679 -0.04167163]]"
   ]
  },
  {
   "cell_type": "markdown",
   "metadata": {},
   "source": [
    "### Implementando o algoritmo de SVM\n",
    "Somente para verificação. Comparamos os valores obtidos com o classificador  SVM com o algoritmo implementado. No caso do SVM, amostras menores que -1 são da classe 0  e amostras maiores que 1 são da classe 1. "
   ]
  },
  {
   "cell_type": "code",
   "execution_count": null,
   "metadata": {},
   "outputs": [],
   "source": [
    "intercept=svm_classifier.intercept_\n",
    "coefs=np.array(svm_classifier.coef_)\n",
    "p=np.dot(X_test[17].transpose(),coefs)+intercept  #predição da amostra número 17\n",
    "p"
   ]
  },
  {
   "cell_type": "code",
   "execution_count": null,
   "metadata": {},
   "outputs": [],
   "source": [
    "svm_classifier.predict(X_test[17])  #predição da amostra 17 usando o classificador criado no scikit-learn"
   ]
  },
  {
   "cell_type": "markdown",
   "metadata": {},
   "source": [
    "### Download dos coeficientes\n",
    "Algoritmo verificado, basta implementarmos em C no Arduíno, utilizando os coeficientes. Para facilitar, usaremos o código abaixo e exportamos para um arquivo texto. No Kaggle, é só fazer o commit e buscar os dados em Output.\n",
    "Como o termo independente é um só (1.8356881), copiei e colei na mão. "
   ]
  },
  {
   "cell_type": "code",
   "execution_count": null,
   "metadata": {},
   "outputs": [],
   "source": [
    "np.savetxt('modelSVM.txt',svm_classifier.coef_, delimiter=',', fmt='%f')"
   ]
  }
 ],
 "metadata": {
  "kernelspec": {
   "display_name": "Python 3",
   "language": "python",
   "name": "python3"
  },
  "language_info": {
   "codemirror_mode": {
    "name": "ipython",
    "version": 3
   },
   "file_extension": ".py",
   "mimetype": "text/x-python",
   "name": "python",
   "nbconvert_exporter": "python",
   "pygments_lexer": "ipython3",
   "version": "3.6.5"
  }
 },
 "nbformat": 4,
 "nbformat_minor": 2
}
