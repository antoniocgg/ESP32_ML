{
 "cells": [
  {
   "cell_type": "markdown",
   "metadata": {},
   "source": [
    "# Redes Neurais\n",
    "Usei o Kernel do Kaggle"
   ]
  },
  {
   "cell_type": "code",
   "execution_count": null,
   "metadata": {},
   "outputs": [],
   "source": [
    "# This Python 3 environment comes with many helpful analytics libraries installed\n",
    "# It is defined by the kaggle/python docker image: https://github.com/kaggle/docker-python\n",
    "# For example, here's several helpful packages to load in \n",
    "\n",
    "import numpy as np # linear algebra\n",
    "import pandas as pd # data processing, CSV file I/O (e.g. pd.read_csv)\n",
    "\n",
    "# Input data files are available in the \"../input/\" directory.\n",
    "# For example, running this (by clicking run or pressing Shift+Enter) will list all files under the input directory\n",
    "\n",
    "import os\n",
    "for dirname, _, filenames in os.walk('/kaggle/input'):\n",
    "    for filename in filenames:\n",
    "        print(os.path.join(dirname, filename))\n"
   ]
  },
  {
   "cell_type": "markdown",
   "metadata": {},
   "source": [
    "### O dataset Mines vs Rocks já está no Kaggle, mas pode ser baixado daqui:  \n",
    "https://archive.ics.uci.edu/ml/datasets/Connectionist+Bench+%28Sonar%2C+Mines+vs.+Rocks%29\n"
   ]
  },
  {
   "cell_type": "code",
   "execution_count": null,
   "metadata": {},
   "outputs": [],
   "source": [
    "input_data = pd.read_csv('/kaggle/input/mines-vs-rocks/sonar.all-data.csv', header=None)\n",
    "input_data.head() # uma olhada no dataset"
   ]
  },
  {
   "cell_type": "markdown",
   "metadata": {},
   "source": [
    "Conta quantas minas e quantas rochas tem no dataset  #minas 0    #rochas 1"
   ]
  },
  {
   "cell_type": "code",
   "execution_count": null,
   "metadata": {},
   "outputs": [],
   "source": [
    "from sklearn.model_selection import train_test_split\n",
    "from sklearn.preprocessing import LabelEncoder, OneHotEncoder  #codifica as letras M e R em 0 e 1\n",
    "y = input_data[60].copy()\n",
    "y = LabelEncoder().fit_transform(y)\n",
    "\n",
    "X_df = input_data.copy()\n",
    "X_df.drop([60], inplace=True, axis=1)\n",
    "\n",
    "X_train, X_test, y_train, y_test = train_test_split(X_df.values, y, test_size=0.2, shuffle=True, random_state=42)\n",
    "\n",
    "print('Training data and target sizes: \\n{}, {}'.format(X_train.shape,y_train.shape))\n",
    "print('Test data and target sizes: \\n{}, {}'.format(X_test.shape,y_test.shape))"
   ]
  },
  {
   "cell_type": "markdown",
   "metadata": {},
   "source": [
    "# Criação do Modelo\n",
    "\n",
    "Numa aplicação real, não pode haver falso negativo, pois seria desastroso identificar uma mina como rocha. Falsos positivos são aceitáveis. Assim, coloquei peso maior (2.975) para a classe 0de forma que não houvesse falsos negativos. Valor foi obtido com tentativa e erro"
   ]
  },
  {
   "cell_type": "code",
   "execution_count": null,
   "metadata": {},
   "outputs": [],
   "source": [
    "from sklearn.metrics import accuracy_score, classification_report\n",
    "from sklearn import metrics\n",
    "\n",
    "\n",
    "from sklearn.neural_network import MLPClassifier\n",
    "mlp = MLPClassifier( activation='logistic',solver='adam', \n",
    "                    max_iter = 3000, verbose=True,warm_start=False, learning_rate='constant', batch_size=145)\n",
    "#Rede simples, uma única camada oculta, com 100 neurônios.\n",
    "mlp.fit(X_train,y_train)"
   ]
  },
  {
   "cell_type": "code",
   "execution_count": null,
   "metadata": {},
   "outputs": [],
   "source": [
    "y_pred = mlp.predict(X_test)\n",
    "from sklearn.metrics import accuracy_score, classification_report\n",
    "print(\"Classification report for classifier %s:\\n%s\\n\"\n",
    "     % (mlp, metrics.classification_report(y_test, y_pred)))\n",
    "print(\"Accuracy of model = %2f%%\" % (accuracy_score(y_test, y_pred )*100))\n",
    "#print(classification_report(y_test, y_pred ))\n",
    "print(\"Confusion matrix:\\n%s\" % metrics.confusion_matrix(y_test, y_pred))"
   ]
  },
  {
   "cell_type": "raw",
   "metadata": {},
   "source": [
    "precision    recall  f1-score   support\n",
    "\n",
    "           0       0.84      0.89      0.86        35\n",
    "           1       0.85      0.79      0.81        28\n",
    "\n",
    "    accuracy                           0.84        63\n",
    "   macro avg       0.84      0.84      0.84        63\n",
    "weighted avg       0.84      0.84      0.84        63\n",
    "\n",
    "\n",
    "Accuracy of model = 84.126984%\n",
    "Confusion matrix:\n",
    "[[31  4]\n",
    " [ 6 22]]"
   ]
  },
  {
   "cell_type": "markdown",
   "metadata": {},
   "source": [
    "### Eliminando os falsos negativos\n",
    "O modelo de redes neurais do scikit-learn não tem o hiperparâmetro class weight. Uma das maneiras de eliminar os falsos negativos é elevar o nível de decisão ao prever probabilidade. Um valor interessante é 0.95. Probabilidades abaixo desse valor serão classificadas como Minas (classe 0)"
   ]
  },
  {
   "cell_type": "code",
   "execution_count": null,
   "metadata": {},
   "outputs": [],
   "source": [
    "y_predproba = mlp.predict_proba(X_test)[:,1]\n",
    "y_predproba= y_predproba>0.95    # passa as probabilidades >0.95 para 1. O resto, 0\n",
    "y_predproba=y_predproba.astype(int)\n",
    "\n",
    "#y_predproba\n",
    "\n",
    "print(\"Accuracy of model = %2f%%\" % (accuracy_score(y_test, y_predproba )*100))\n",
    "#print(classification_report(y_test, y_pred ))\n",
    "print(\"Confusion matrix:\\n%s\" % metrics.confusion_matrix(y_test, y_predproba))"
   ]
  },
  {
   "cell_type": "raw",
   "metadata": {},
   "source": [
    "Accuracy of model = 85.714286%\n",
    "Confusion matrix:\n",
    "[[35  0]\n",
    " [ 9 19]]"
   ]
  },
  {
   "cell_type": "markdown",
   "metadata": {},
   "source": [
    "### Testando o algoritmo do zero\n",
    "Testamos uma amostra com o algoritmo do zero e a mesma amostra com o algoritmo do scikit learn. Esperamos encontrar valores semelhantes"
   ]
  },
  {
   "cell_type": "code",
   "execution_count": null,
   "metadata": {},
   "outputs": [],
   "source": [
    "coe0=np.array(mlp.coefs_[0])\n",
    "coe1=np.array(mlp.coefs_[1])\n",
    "inter0=np.array(mlp.intercepts_[0])\n",
    "inter1=np.array(mlp.intercepts_[1])"
   ]
  },
  {
   "cell_type": "code",
   "execution_count": null,
   "metadata": {},
   "outputs": [],
   "source": [
    "h1=1/(1+np.exp(-(np.dot(X_df.values[98].transpose(),coe0)+inter0)))   #prevendo a amostra 98\n",
    "h2=1/(1+np.exp(-(np.dot(h1.transpose(),coe1)+inter1)))\n",
    "h2"
   ]
  },
  {
   "cell_type": "raw",
   "metadata": {},
   "source": [
    "array([7.01087682e-06])"
   ]
  },
  {
   "cell_type": "code",
   "execution_count": null,
   "metadata": {},
   "outputs": [],
   "source": [
    "mlp.predict_proba(X_df.values)[98]"
   ]
  },
  {
   "cell_type": "raw",
   "metadata": {},
   "source": [
    "array([9.99992989e-01, 7.01087682e-06])"
   ]
  },
  {
   "cell_type": "markdown",
   "metadata": {},
   "source": [
    "### Download dos coeficientes\n",
    "Algoritmo verificado, basta implementarmos em C no Arduíno, utilizando os coeficientes. Para facilitar, usaremos o código abaixo e exportamos para um arquivo texto. No Kaggle, é só fazer o commit e buscar os dados em Output."
   ]
  },
  {
   "cell_type": "code",
   "execution_count": null,
   "metadata": {},
   "outputs": [],
   "source": [
    "np.savetxt('NNCOE0.txt',coe0, delimiter=',', fmt='%f') #Salvar os coeficientes da rede neural\n",
    "np.savetxt('NNCOE1.txt',coe1, delimiter=',', fmt='%f') \n",
    "np.savetxt('NNINTERCEPTS0.txt',inter0, delimiter=',', fmt='%f') \n",
    "np.savetxt('NNINTERCEPTS1.txt',inter1, delimiter=',', fmt='%f') "
   ]
  }
 ],
 "metadata": {
  "kernelspec": {
   "display_name": "Python 3",
   "language": "python",
   "name": "python3"
  },
  "language_info": {
   "codemirror_mode": {
    "name": "ipython",
    "version": 3
   },
   "file_extension": ".py",
   "mimetype": "text/x-python",
   "name": "python",
   "nbconvert_exporter": "python",
   "pygments_lexer": "ipython3",
   "version": "3.6.5"
  }
 },
 "nbformat": 4,
 "nbformat_minor": 2
}
