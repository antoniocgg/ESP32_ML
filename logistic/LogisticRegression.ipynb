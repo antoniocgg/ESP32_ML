{
 "cells": [
  {
   "cell_type": "markdown",
   "metadata": {},
   "source": [
    "# Regressão Logística\n",
    "Usei o Kernel do Kaggle"
   ]
  },
  {
   "cell_type": "code",
   "execution_count": null,
   "metadata": {},
   "outputs": [],
   "source": [
    "# This Python 3 environment comes with many helpful analytics libraries installed\n",
    "# It is defined by the kaggle/python docker image: https://github.com/kaggle/docker-python\n",
    "# For example, here's several helpful packages to load in \n",
    "\n",
    "import numpy as np # linear algebra\n",
    "import pandas as pd # data processing, CSV file I/O (e.g. pd.read_csv)\n",
    "\n",
    "# Input data files are available in the \"../input/\" directory.\n",
    "# For example, running this (by clicking run or pressing Shift+Enter) will list all files under the input directory\n",
    "\n",
    "import os\n",
    "for dirname, _, filenames in os.walk('/kaggle/input'):\n",
    "    for filename in filenames:\n",
    "        print(os.path.join(dirname, filename))\n"
   ]
  },
  {
   "cell_type": "markdown",
   "metadata": {},
   "source": [
    "### O dataset Mines vs Rocks já está no Kaggle, mas pode ser baixado daqui:  \n",
    "https://archive.ics.uci.edu/ml/datasets/Connectionist+Bench+%28Sonar%2C+Mines+vs.+Rocks%29\n"
   ]
  },
  {
   "cell_type": "code",
   "execution_count": null,
   "metadata": {},
   "outputs": [],
   "source": [
    "input_data = pd.read_csv('/kaggle/input/mines-vs-rocks/sonar.all-data.csv', header=None)\n",
    "input_data.head() # uma olhada no dataset"
   ]
  },
  {
   "cell_type": "markdown",
   "metadata": {},
   "source": [
    "Conta quantas minas e quantas rochas tem no dataset  #minas 0    #rochas 1"
   ]
  },
  {
   "cell_type": "code",
   "execution_count": null,
   "metadata": {},
   "outputs": [],
   "source": [
    "from sklearn.model_selection import train_test_split\n",
    "from sklearn.preprocessing import LabelEncoder, OneHotEncoder  #codifica as letras M e R em 0 e 1\n",
    "y = input_data[60].copy()\n",
    "y = LabelEncoder().fit_transform(y)\n",
    "\n",
    "X_df = input_data.copy()\n",
    "X_df.drop([60], inplace=True, axis=1)\n",
    "\n",
    "X_train, X_test, y_train, y_test = train_test_split(X_df.values, y, test_size=0.2, shuffle=True, random_state=42)\n",
    "\n",
    "print('Training data and target sizes: \\n{}, {}'.format(X_train.shape,y_train.shape))\n",
    "print('Test data and target sizes: \\n{}, {}'.format(X_test.shape,y_test.shape))"
   ]
  },
  {
   "cell_type": "markdown",
   "metadata": {},
   "source": [
    "# Criação do Modelo\n",
    "\n",
    "Numa aplicação real, não pode haver falso negativo, pois seria desastroso identificar uma mina como rocha. Falsos positivos são aceitáveis. Assim, coloquei peso maior (2.975) para a classe 0de forma que não houvesse falsos negativos. Valor foi obtido com tentativa e erro"
   ]
  },
  {
   "cell_type": "code",
   "execution_count": null,
   "metadata": {},
   "outputs": [],
   "source": [
    "from sklearn.metrics import accuracy_score, classification_report\n",
    "from sklearn.linear_model import LogisticRegression\n",
    "from sklearn import metrics\n",
    "\n",
    "\n",
    "class_logistic = LogisticRegression(solver='liblinear', max_iter=100,class_weight={0:2.975}) # liblinear deu o melhor resultado\n",
    "class_logistic.fit(X_train, y_train)\n",
    "\n",
    "y_pred = class_logistic.predict(X_test)\n",
    "print(\"Accuracy of model = %2f%%\" % (accuracy_score(y_test, y_pred )*100))\n",
    "print(\"Confusion matrix:\\n%s\" % metrics.confusion_matrix(y_test, y_pred))"
   ]
  },
  {
   "cell_type": "markdown",
   "metadata": {},
   "source": [
    "Accuracy of model = 80.952381%\n",
    "Confusion matrix:\n",
    "[[26  0]\n",
    " [ 8  8]]"
   ]
  },
  {
   "cell_type": "markdown",
   "metadata": {},
   "source": [
    "## Visualização dos coeficientes\n",
    "São esses coeficientes que serão transferidos para o código C do Arduino."
   ]
  },
  {
   "cell_type": "code",
   "execution_count": null,
   "metadata": {},
   "outputs": [],
   "source": [
    "print(class_logistic.intercept_,class_logistic.coef_)"
   ]
  },
  {
   "cell_type": "raw",
   "metadata": {},
   "source": [
    "[0.94204354] [[-3.31842194e-01 -2.18285771e-01 -6.82792411e-02 -6.43945168e-01\n",
    "  -7.01882569e-01 -1.25764162e-01  1.76499937e-01 -3.42934250e-02\n",
    "  -9.35264415e-01 -1.01910297e+00 -1.86958478e+00 -1.77157216e+00\n",
    "  -4.80438830e-01  5.53920727e-01  5.95597715e-01  6.36730037e-01\n",
    "   4.99040378e-01  3.83027802e-01 -5.08546749e-01 -6.05314288e-01\n",
    "  -5.56494902e-01 -4.74525177e-01 -2.23114488e-01 -5.97004868e-01\n",
    "   2.38242656e-01  5.87068719e-01  1.25051967e-04 -2.91708329e-01\n",
    "  -5.28083524e-02 -2.81493518e-01  1.12389132e+00 -2.62425430e-01\n",
    "  -2.17632300e-01  4.23220468e-01  6.33498387e-01  1.32774314e+00\n",
    "   9.84247413e-01 -2.52631802e-01 -4.09646348e-01  7.59118418e-01\n",
    "  -6.41192096e-02 -6.19780959e-01 -1.40144546e+00 -1.42511260e+00\n",
    "  -1.65281590e+00 -1.27931319e+00 -7.23812499e-01 -7.12210297e-01\n",
    "  -5.45362363e-01 -3.22806165e-02 -1.37192518e-01 -1.16152090e-01\n",
    "  -5.93070704e-02 -1.04200393e-01 -2.95561619e-03 -1.61206733e-02\n",
    "   1.18296205e-02 -7.15875687e-02 -9.47028265e-02 -4.77754710e-02]]"
   ]
  },
  {
   "cell_type": "markdown",
   "metadata": {},
   "source": [
    "### Implementando o algoritmo de regressão logística\n",
    "Somente para verificação. Comparamos os valores obtidos com o classificador  class_logistic com o algoritmo implementado. Encontraremos valores semelhantes "
   ]
  },
  {
   "cell_type": "code",
   "execution_count": null,
   "metadata": {},
   "outputs": [],
   "source": [
    "intercept=class_logistic.intercept_\n",
    "coefs=np.array(class_logistic.coef_)\n",
    "\n",
    "p=np.exp(-(np.dot(X_test[17].transpose(), coefs)+intercept))  #predição da amostra número 17\n",
    "p"
   ]
  },
  {
   "cell_type": "code",
   "execution_count": null,
   "metadata": {},
   "outputs": [],
   "source": [
    "class_logistic.predict_proba(X_test[17])  #predição da amostra 17 usando o classificador criado no scikit-learn"
   ]
  },
  {
   "cell_type": "markdown",
   "metadata": {},
   "source": [
    "### Download dos coeficientes\n",
    "Algoritmo verificado, basta implementarmos em C no Arduíno, utilizando os coeficientes. Para facilitar, usaremos o código abaixo e exportamos para um arquivo texto. No Kaggle, é só fazer o commit e buscar os dados em Output."
   ]
  },
  {
   "cell_type": "code",
   "execution_count": null,
   "metadata": {},
   "outputs": [],
   "source": [
    "np.savetxt('RegressaoLogistica.txt',class_logistic.coef_, delimiter=',', fmt='%f') #salva os coeficientes"
   ]
  }
 ],
 "metadata": {
  "kernelspec": {
   "display_name": "Python 3",
   "language": "python",
   "name": "python3"
  },
  "language_info": {
   "codemirror_mode": {
    "name": "ipython",
    "version": 3
   },
   "file_extension": ".py",
   "mimetype": "text/x-python",
   "name": "python",
   "nbconvert_exporter": "python",
   "pygments_lexer": "ipython3",
   "version": "3.6.5"
  }
 },
 "nbformat": 4,
 "nbformat_minor": 2
}
